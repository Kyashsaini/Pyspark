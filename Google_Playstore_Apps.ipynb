{
 "cells": [
  {
   "cell_type": "code",
   "execution_count": 1,
   "metadata": {
    "colab": {
     "base_uri": "https://localhost:8080/"
    },
    "id": "q8PBAX7P1Jxw",
    "outputId": "18e63d4f-cc86-4d10-81d4-464c8caf504e"
   },
   "outputs": [
    {
     "name": "stdout",
     "output_type": "stream",
     "text": [
      "Collecting pyspark\n",
      "  Downloading pyspark-3.4.1.tar.gz (310.8 MB)\n",
      "     ------------------------------------ 310.8/310.8 MB 886.9 kB/s eta 0:00:00\n",
      "  Preparing metadata (setup.py): started\n",
      "  Preparing metadata (setup.py): finished with status 'done'\n",
      "Collecting py4j==0.10.9.7\n",
      "  Downloading py4j-0.10.9.7-py2.py3-none-any.whl (200 kB)\n",
      "     -------------------------------------- 200.5/200.5 kB 2.4 MB/s eta 0:00:00\n",
      "Building wheels for collected packages: pyspark\n",
      "  Building wheel for pyspark (setup.py): started\n",
      "  Building wheel for pyspark (setup.py): finished with status 'done'\n",
      "  Created wheel for pyspark: filename=pyspark-3.4.1-py2.py3-none-any.whl size=311285411 sha256=cc6d1516c5fa1e5ec81c7d3dfc24680b3823a2c41a88f4214dbce8b80fdd2eda\n",
      "  Stored in directory: c:\\users\\saini\\appdata\\local\\pip\\cache\\wheels\\2b\\9a\\39\\d8019ffbfb76a39433455e3d5799e94d3e3cae8f41229f6bf8\n",
      "Successfully built pyspark\n",
      "Installing collected packages: py4j, pyspark\n",
      "Successfully installed py4j-0.10.9.7 pyspark-3.4.1\n"
     ]
    }
   ],
   "source": [
    "!pip install pyspark"
   ]
  },
  {
   "cell_type": "markdown",
   "metadata": {
    "id": "O_AJC_2s2L-H"
   },
   "source": [
    "# **Importing the Libraries**"
   ]
  },
  {
   "cell_type": "code",
   "execution_count": 9,
   "metadata": {
    "id": "v6yX8daCxYDZ"
   },
   "outputs": [],
   "source": [
    "from pyspark.sql import SparkSession\n",
    "from pyspark.sql.types import StructType, StructField, StringType,IntegerType\n",
    "from pyspark.sql.functions import *"
   ]
  },
  {
   "cell_type": "code",
   "execution_count": 24,
   "metadata": {
    "id": "E44Z-9uI-9TT"
   },
   "outputs": [],
   "source": [
    "from pyspark.sql.window import Window\n",
    "import pyspark.sql.functions as F"
   ]
  },
  {
   "cell_type": "code",
   "execution_count": 32,
   "metadata": {
    "id": "cCnqv9l1Bh2e"
   },
   "outputs": [],
   "source": [
    "from pyspark.sql.types import FloatType"
   ]
  },
  {
   "cell_type": "markdown",
   "metadata": {
    "id": "4gUURGP0Bz8o"
   },
   "source": [
    "# **Create a SparkSession**"
   ]
  },
  {
   "cell_type": "code",
   "execution_count": 13,
   "metadata": {
    "id": "JKlCvibp7EIa"
   },
   "outputs": [],
   "source": [
    "spark = SparkSession.builder.appName(\"GooglePlayStoreAnalysis\").getOrCreate()"
   ]
  },
  {
   "cell_type": "markdown",
   "metadata": {
    "id": "VOYsFzHE2p80"
   },
   "source": [
    "# **Creating the dataframe**"
   ]
  },
  {
   "cell_type": "code",
   "execution_count": 14,
   "metadata": {
    "id": "tlV_63Eo7JJ7"
   },
   "outputs": [],
   "source": [
    "# Load the Google Play Store dataset\n",
    "data_path = \"/content/googleplaystore.csv\"\n",
    "df = spark.read.csv(data_path, header=True, inferSchema=True)"
   ]
  },
  {
   "cell_type": "markdown",
   "metadata": {
    "id": "9lbwxWCjB4Og"
   },
   "source": [
    "# **Check the schema and the first few rows of the DataFrame**"
   ]
  },
  {
   "cell_type": "code",
   "execution_count": 15,
   "metadata": {
    "colab": {
     "base_uri": "https://localhost:8080/"
    },
    "id": "AVZ6MXLIxdvq",
    "outputId": "655ac183-581d-4577-bc45-9c69f03acfab"
   },
   "outputs": [
    {
     "name": "stdout",
     "output_type": "stream",
     "text": [
      "root\n",
      " |-- App: string (nullable = true)\n",
      " |-- Category: string (nullable = true)\n",
      " |-- Rating: string (nullable = true)\n",
      " |-- Reviews: string (nullable = true)\n",
      " |-- Size: string (nullable = true)\n",
      " |-- Installs: string (nullable = true)\n",
      " |-- Type: string (nullable = true)\n",
      " |-- Price: string (nullable = true)\n",
      " |-- Content Rating: string (nullable = true)\n",
      " |-- Genres: string (nullable = true)\n",
      " |-- Last Updated: string (nullable = true)\n",
      " |-- Current Ver: string (nullable = true)\n",
      " |-- Android Ver: string (nullable = true)\n",
      "\n",
      "+--------------------+--------------+------+-------+----+-----------+----+-----+--------------+--------------------+----------------+------------------+------------+\n",
      "|                 App|      Category|Rating|Reviews|Size|   Installs|Type|Price|Content Rating|              Genres|    Last Updated|       Current Ver| Android Ver|\n",
      "+--------------------+--------------+------+-------+----+-----------+----+-----+--------------+--------------------+----------------+------------------+------------+\n",
      "|Photo Editor & Ca...|ART_AND_DESIGN|   4.1|    159| 19M|    10,000+|Free|    0|      Everyone|        Art & Design| January 7, 2018|             1.0.0|4.0.3 and up|\n",
      "| Coloring book moana|ART_AND_DESIGN|   3.9|    967| 14M|   500,000+|Free|    0|      Everyone|Art & Design;Pret...|January 15, 2018|             2.0.0|4.0.3 and up|\n",
      "|U Launcher Lite –...|ART_AND_DESIGN|   4.7|  87510|8.7M| 5,000,000+|Free|    0|      Everyone|        Art & Design|  August 1, 2018|             1.2.4|4.0.3 and up|\n",
      "|Sketch - Draw & P...|ART_AND_DESIGN|   4.5| 215644| 25M|50,000,000+|Free|    0|          Teen|        Art & Design|    June 8, 2018|Varies with device|  4.2 and up|\n",
      "|Pixel Draw - Numb...|ART_AND_DESIGN|   4.3|    967|2.8M|   100,000+|Free|    0|      Everyone|Art & Design;Crea...|   June 20, 2018|               1.1|  4.4 and up|\n",
      "+--------------------+--------------+------+-------+----+-----------+----+-----+--------------+--------------------+----------------+------------------+------------+\n",
      "only showing top 5 rows\n",
      "\n"
     ]
    }
   ],
   "source": [
    "df.printSchema()\n",
    "df.show(5)"
   ]
  },
  {
   "cell_type": "markdown",
   "metadata": {
    "id": "J_J_PMNzB74I"
   },
   "source": [
    "# **Data Cleaning**"
   ]
  },
  {
   "cell_type": "code",
   "execution_count": 16,
   "metadata": {
    "id": "ta4f160dxdyh"
   },
   "outputs": [],
   "source": [
    "df= df.drop(\"size\", \"Content Rating\", \"Last Updated\", \"Android Ver\", \"Current Ver\")"
   ]
  },
  {
   "cell_type": "code",
   "execution_count": 17,
   "metadata": {
    "colab": {
     "base_uri": "https://localhost:8080/"
    },
    "id": "_iBdc6j3xd1s",
    "outputId": "d14d6b68-69cc-49b6-b1b1-c133e99fea0c"
   },
   "outputs": [
    {
     "name": "stdout",
     "output_type": "stream",
     "text": [
      "+--------------------+--------------+------+-------+-----------+----+-----+--------------------+\n",
      "|                 App|      Category|Rating|Reviews|   Installs|Type|Price|              Genres|\n",
      "+--------------------+--------------+------+-------+-----------+----+-----+--------------------+\n",
      "|Photo Editor & Ca...|ART_AND_DESIGN|   4.1|    159|    10,000+|Free|    0|        Art & Design|\n",
      "| Coloring book moana|ART_AND_DESIGN|   3.9|    967|   500,000+|Free|    0|Art & Design;Pret...|\n",
      "|U Launcher Lite –...|ART_AND_DESIGN|   4.7|  87510| 5,000,000+|Free|    0|        Art & Design|\n",
      "|Sketch - Draw & P...|ART_AND_DESIGN|   4.5| 215644|50,000,000+|Free|    0|        Art & Design|\n",
      "|Pixel Draw - Numb...|ART_AND_DESIGN|   4.3|    967|   100,000+|Free|    0|Art & Design;Crea...|\n",
      "+--------------------+--------------+------+-------+-----------+----+-----+--------------------+\n",
      "only showing top 5 rows\n",
      "\n"
     ]
    }
   ],
   "source": [
    "df.show(5)"
   ]
  },
  {
   "cell_type": "code",
   "execution_count": 18,
   "metadata": {
    "colab": {
     "base_uri": "https://localhost:8080/"
    },
    "id": "EwM8JxZlxd37",
    "outputId": "7384bd32-b0c0-4d09-93cd-f2897769d0aa"
   },
   "outputs": [
    {
     "name": "stdout",
     "output_type": "stream",
     "text": [
      "root\n",
      " |-- App: string (nullable = true)\n",
      " |-- Category: string (nullable = true)\n",
      " |-- Rating: string (nullable = true)\n",
      " |-- Reviews: string (nullable = true)\n",
      " |-- Installs: string (nullable = true)\n",
      " |-- Type: string (nullable = true)\n",
      " |-- Price: string (nullable = true)\n",
      " |-- Genres: string (nullable = true)\n",
      "\n"
     ]
    }
   ],
   "source": [
    "df.printSchema()"
   ]
  },
  {
   "cell_type": "markdown",
   "metadata": {
    "id": "WaD3FyEJCCGW"
   },
   "source": [
    "# **Coverting the datatype of the columns into required one**"
   ]
  },
  {
   "cell_type": "code",
   "execution_count": 19,
   "metadata": {
    "id": "yrQ-acK2xd_B"
   },
   "outputs": [],
   "source": [
    "from pyspark.sql.types import IntegerType\n",
    "\n",
    "# Convert 'Rating' column from string to integer\n",
    "df = df.withColumn(\"Rating\", df[\"Rating\"].cast(IntegerType()))\n",
    "\n",
    "# Convert 'Reviews' column from string to integer\n",
    "df = df.withColumn(\"Reviews\", df[\"Reviews\"].cast(IntegerType()))"
   ]
  },
  {
   "cell_type": "code",
   "execution_count": 20,
   "metadata": {
    "colab": {
     "base_uri": "https://localhost:8080/"
    },
    "id": "RGCpZ0BUxeAz",
    "outputId": "303b61a7-5ebc-4535-f9d7-3ce1ab070967"
   },
   "outputs": [
    {
     "name": "stdout",
     "output_type": "stream",
     "text": [
      "root\n",
      " |-- App: string (nullable = true)\n",
      " |-- Category: string (nullable = true)\n",
      " |-- Rating: integer (nullable = true)\n",
      " |-- Reviews: integer (nullable = true)\n",
      " |-- Installs: string (nullable = true)\n",
      " |-- Type: string (nullable = true)\n",
      " |-- Price: string (nullable = true)\n",
      " |-- Genres: string (nullable = true)\n",
      "\n"
     ]
    }
   ],
   "source": [
    "df.printSchema()"
   ]
  },
  {
   "cell_type": "code",
   "execution_count": 22,
   "metadata": {
    "colab": {
     "base_uri": "https://localhost:8080/"
    },
    "id": "ht2R6D60xeCn",
    "outputId": "91f733c4-04d8-4e17-e6b0-d0666a2c6b09"
   },
   "outputs": [
    {
     "name": "stdout",
     "output_type": "stream",
     "text": [
      "+--------------------+--------------+------+-------+-----------+----+-----+--------------------+\n",
      "|                 App|      Category|Rating|Reviews|   Installs|Type|Price|              Genres|\n",
      "+--------------------+--------------+------+-------+-----------+----+-----+--------------------+\n",
      "|Photo Editor & Ca...|ART_AND_DESIGN|     4|    159|    10,000+|Free|    0|        Art & Design|\n",
      "| Coloring book moana|ART_AND_DESIGN|     3|    967|   500,000+|Free|    0|Art & Design;Pret...|\n",
      "|U Launcher Lite –...|ART_AND_DESIGN|     4|  87510| 5,000,000+|Free|    0|        Art & Design|\n",
      "|Sketch - Draw & P...|ART_AND_DESIGN|     4| 215644|50,000,000+|Free|    0|        Art & Design|\n",
      "|Pixel Draw - Numb...|ART_AND_DESIGN|     4|    967|   100,000+|Free|    0|Art & Design;Crea...|\n",
      "+--------------------+--------------+------+-------+-----------+----+-----+--------------------+\n",
      "only showing top 5 rows\n",
      "\n"
     ]
    }
   ],
   "source": [
    "df.show(5)"
   ]
  },
  {
   "cell_type": "markdown",
   "metadata": {
    "id": "XTzAdnXdCMze"
   },
   "source": [
    "# **Find out the Top 10 Reviews given to the apps**"
   ]
  },
  {
   "cell_type": "code",
   "execution_count": 25,
   "metadata": {
    "colab": {
     "base_uri": "https://localhost:8080/"
    },
    "id": "rwcVO_PwxeH6",
    "outputId": "f452b16c-ad8b-4a1c-9422-e29751b8cb75"
   },
   "outputs": [
    {
     "name": "stdout",
     "output_type": "stream",
     "text": [
      "+--------------------+--------+\n",
      "|                 App| Reviews|\n",
      "+--------------------+--------+\n",
      "|            Facebook|78158306|\n",
      "|            Facebook|78128208|\n",
      "|  WhatsApp Messenger|69119316|\n",
      "|  WhatsApp Messenger|69119316|\n",
      "|  WhatsApp Messenger|69109672|\n",
      "|           Instagram|66577446|\n",
      "|           Instagram|66577313|\n",
      "|           Instagram|66577313|\n",
      "|           Instagram|66509917|\n",
      "|Messenger – Text ...|56646578|\n",
      "+--------------------+--------+\n",
      "\n"
     ]
    }
   ],
   "source": [
    "# Use Window function to rank the apps based on reviews\n",
    "windowSpec = Window.orderBy(col(\"Reviews\").desc())\n",
    "\n",
    "# Rank the apps based on reviews\n",
    "df = df.withColumn(\"Rank\", F.rank().over(windowSpec))\n",
    "\n",
    "# Filter the top 10 reviews\n",
    "top_10_reviews = df.filter(col(\"Rank\") <= 10)\n",
    "\n",
    "# Select only the required columns ('App' and 'Reviews')\n",
    "top_10_reviews = top_10_reviews.select(\"App\", \"Reviews\")\n",
    "\n",
    "# Show the top 10 reviews\n",
    "top_10_reviews.show()"
   ]
  },
  {
   "cell_type": "markdown",
   "metadata": {
    "id": "0D0MbnFOD5DT"
   },
   "source": [
    "# Conclusions:\n",
    "\n",
    "1. The code finds the top 10 reviews given to the apps in the Google Play Store dataset.\n",
    "2. It converts the 'Reviews' column from string to integer and then ranks the apps based on the number of reviews.\n",
    "3. The result shows the top 10 apps with the highest number of reviews."
   ]
  },
  {
   "cell_type": "markdown",
   "metadata": {
    "id": "4Tqr4UxiC-4S"
   },
   "source": [
    "# **Top 10 installs apps and distribution of type(free/paid)**"
   ]
  },
  {
   "cell_type": "code",
   "execution_count": 37,
   "metadata": {
    "colab": {
     "base_uri": "https://localhost:8080/"
    },
    "id": "YFphixJqxeKE",
    "outputId": "92e2eb6d-9991-4354-d5b7-2f4029d65779"
   },
   "outputs": [
    {
     "name": "stdout",
     "output_type": "stream",
     "text": [
      "+--------------------+----------+\n",
      "|                 App|  Installs|\n",
      "+--------------------+----------+\n",
      "|   Google Play Books|1000000000|\n",
      "|Messenger – Text ...|1000000000|\n",
      "|  WhatsApp Messenger|1000000000|\n",
      "|Google Chrome: Fa...|1000000000|\n",
      "|               Gmail|1000000000|\n",
      "+--------------------+----------+\n",
      "only showing top 5 rows\n",
      "\n"
     ]
    }
   ],
   "source": [
    "# Convert 'Installs' column from string to integer\n",
    "df = df.withColumn(\"Installs\", F.regexp_replace(col(\"Installs\"), \"[+,]\", \"\").cast(IntegerType()))\n",
    "\n",
    "# Use Window function to rank the apps based on installs\n",
    "windowSpec = Window.orderBy(col(\"Installs\").desc())\n",
    "\n",
    "# Rank the apps based on installs\n",
    "df = df.withColumn(\"Rank\", F.rank().over(windowSpec))\n",
    "\n",
    "# Filter the top 10 installed apps\n",
    "top_10_installed_apps = df.filter(col(\"Rank\") <= 10)\n",
    "\n",
    "# Select only the required columns ('App' and 'Installs')\n",
    "top_10_installed_apps = top_10_installed_apps.select(\"App\", \"Installs\")\n",
    "\n",
    "# Show the top 10 installed apps\n",
    "top_10_installed_apps.show(5)"
   ]
  },
  {
   "cell_type": "code",
   "execution_count": 36,
   "metadata": {
    "colab": {
     "base_uri": "https://localhost:8080/"
    },
    "id": "QfY6EHGdDMHM",
    "outputId": "5122d396-ccb0-4a36-b4bc-c74939e3ead5"
   },
   "outputs": [
    {
     "name": "stdout",
     "output_type": "stream",
     "text": [
      "+------+-----+\n",
      "|  Type|count|\n",
      "+------+-----+\n",
      "|     0|    1|\n",
      "|102248|    1|\n",
      "|   NaN|    1|\n",
      "|  Free|10037|\n",
      "|  Paid|  800|\n",
      "+------+-----+\n",
      "only showing top 5 rows\n",
      "\n"
     ]
    }
   ],
   "source": [
    "# Calculate the distribution of app types (free/paid)\n",
    "app_type_distribution = df.groupBy(\"Type\").count()\n",
    "\n",
    "# Show the distribution of app types\n",
    "app_type_distribution.show(5)"
   ]
  },
  {
   "cell_type": "markdown",
   "metadata": {
    "id": "WmKSHnFOEC_T"
   },
   "source": [
    "# Comclusions:\n",
    "\n",
    "1. The code finds the top 10 installed apps in the Google Play Store dataset.\n",
    "2. It converts the 'Installs' column from string to integer and then ranks the apps based on the number of installs.\n",
    "3. The result shows the top 10 apps with the highest number of installs.\n",
    "4. Additionally, the code calculates the distribution of app types (free and paid) in the dataset."
   ]
  },
  {
   "cell_type": "markdown",
   "metadata": {
    "id": "of8az8ISDPis"
   },
   "source": [
    "# **Category wise distribution of installed apps**"
   ]
  },
  {
   "cell_type": "code",
   "execution_count": 28,
   "metadata": {
    "colab": {
     "base_uri": "https://localhost:8080/"
    },
    "id": "FZWt74_axeMa",
    "outputId": "750d19ac-12fd-451f-aea5-a5ab28ace2e6"
   },
   "outputs": [
    {
     "name": "stdout",
     "output_type": "stream",
     "text": [
      "+-------------+-------------+\n",
      "|     Category|TotalInstalls|\n",
      "+-------------+-------------+\n",
      "|       EVENTS|     15973161|\n",
      "|       COMICS|     56086150|\n",
      "|       SPORTS|   1751174498|\n",
      "|      WEATHER|    426100520|\n",
      "|VIDEO_PLAYERS|   6222002720|\n",
      "+-------------+-------------+\n",
      "only showing top 5 rows\n",
      "\n"
     ]
    }
   ],
   "source": [
    "# Calculate the category-wise distribution of installed apps\n",
    "category_wise_distribution = df.groupBy(\"Category\").agg(F.sum(\"Installs\").alias(\"TotalInstalls\"))\n",
    "\n",
    "# Show the category-wise distribution of installed apps\n",
    "category_wise_distribution.show(5)"
   ]
  },
  {
   "cell_type": "markdown",
   "metadata": {
    "id": "EjPh0Z64ET9D"
   },
   "source": [
    "# Conclusions:\n",
    "\n",
    "1. The code calculates the category-wise distribution of installed apps in the Google Play Store dataset.\n",
    "2. It converts the 'Installs' column from string to integer and groups the apps based on their respective categories.\n",
    "3. The result shows the total number of installs for each category."
   ]
  },
  {
   "cell_type": "markdown",
   "metadata": {
    "id": "xTij3WoRDfMz"
   },
   "source": [
    "# **Top Paid Apps**"
   ]
  },
  {
   "cell_type": "code",
   "execution_count": 30,
   "metadata": {
    "colab": {
     "base_uri": "https://localhost:8080/"
    },
    "id": "ycknUpwoxePt",
    "outputId": "854201e5-d573-4cac-949e-396970a5e5d2"
   },
   "outputs": [
    {
     "name": "stdout",
     "output_type": "stream",
     "text": [
      "+--------------------+---------------+------+-------+--------+----+-----+---------------+----+\n",
      "|                 App|       Category|Rating|Reviews|Installs|Type|Price|         Genres|Rank|\n",
      "+--------------------+---------------+------+-------+--------+----+-----+---------------+----+\n",
      "|        ASCCP Mobile|        MEDICAL|     4|     63|   10000|Paid|$9.99|        Medical|6597|\n",
      "|Critical Care Par...|        MEDICAL|     4|     17|    1000|Paid|$9.99|        Medical|8128|\n",
      "|        ASCCP Mobile|        MEDICAL|     4|     63|   10000|Paid|$9.99|        Medical|6597|\n",
      "|Baldur's Gate: En...|         FAMILY|     4|  20101|  100000|Paid|$9.99|   Role Playing|4949|\n",
      "|        BIG Launcher|PERSONALIZATION|     4|    881|   10000|Paid|$9.99|Personalization|6597|\n",
      "+--------------------+---------------+------+-------+--------+----+-----+---------------+----+\n",
      "only showing top 5 rows\n",
      "\n"
     ]
    }
   ],
   "source": [
    "# Filter and select the top paid apps\n",
    "top_paid_apps = df.filter(col(\"Type\") == \"Paid\").orderBy(col(\"Price\").desc())\n",
    "\n",
    "# Show the top paid apps\n",
    "top_paid_apps.show(5)"
   ]
  },
  {
   "cell_type": "markdown",
   "metadata": {
    "id": "Fpbe7tHYElQS"
   },
   "source": [
    "# Conclusions:\n",
    "\n",
    "1. The code finds the top paid apps in the Google Play Store dataset.\n",
    "2. It filters the DataFrame to include only the apps with the 'Type' column value equal to 'Paid'.\n",
    "3. The result shows the top paid apps sorted by their prices in descending order."
   ]
  },
  {
   "cell_type": "markdown",
   "metadata": {
    "id": "BAhAQ0_fDk-s"
   },
   "source": [
    "# **Top Paid Rating Apps**"
   ]
  },
  {
   "cell_type": "code",
   "execution_count": 34,
   "metadata": {
    "colab": {
     "base_uri": "https://localhost:8080/"
    },
    "id": "qS3_6a9WxeS4",
    "outputId": "a9f88182-90e3-47a2-de54-5ea93c90a513"
   },
   "outputs": [
    {
     "name": "stdout",
     "output_type": "stream",
     "text": [
      "+--------------------+-------------------+------+-------+--------+----+-----+-----------------+----+\n",
      "|                 App|           Category|Rating|Reviews|Installs|Type|Price|           Genres|Rank|\n",
      "+--------------------+-------------------+------+-------+--------+----+-----+-----------------+----+\n",
      "|      FHR 5-Tier 2.0|            MEDICAL|   5.0|      2|     500|Paid|$2.99|          Medical|9035|\n",
      "|Hey AJ! It's Satu...|BOOKS_AND_REFERENCE|   5.0|     12|     100|Paid|$3.99|Books & Reference|9365|\n",
      "|Super Hearing Sec...|            MEDICAL|   5.0|      3|     100|Paid|$2.99|          Medical|9365|\n",
      "|        ADS-B Driver|              TOOLS|   5.0|      2|     100|Paid|$1.99|            Tools|9365|\n",
      "|     P-Home for KLWP|    PERSONALIZATION|   5.0|      4|     100|Paid|$0.99|  Personalization|9365|\n",
      "+--------------------+-------------------+------+-------+--------+----+-----+-----------------+----+\n",
      "only showing top 5 rows\n",
      "\n"
     ]
    }
   ],
   "source": [
    "# Convert 'Rating' column from string to float\n",
    "df = df.withColumn(\"Rating\", df[\"Rating\"].cast(FloatType()))\n",
    "\n",
    "# Filter and select the top paid rating apps\n",
    "top_paid_rating_apps = df.filter((col(\"Type\") == \"Paid\") & (col(\"Rating\").isNotNull())).orderBy(col(\"Rating\").desc())\n",
    "\n",
    "# Show the top paid rating apps\n",
    "top_paid_rating_apps.show(5)"
   ]
  },
  {
   "cell_type": "markdown",
   "metadata": {
    "id": "so_3c2crEujN"
   },
   "source": [
    "# Conclusions:\n",
    "\n",
    "1. The code finds the top paid rating apps in the Google Play Store dataset.\n",
    "2. It filters the DataFrame to include only the apps with the 'Type' column value equal to 'Paid' and a non-null 'Rating'.\n",
    "3. The result shows the top paid rating apps sorted by their ratings in descending order."
   ]
  },
  {
   "cell_type": "code",
   "execution_count": null,
   "metadata": {
    "id": "jxJB3IZrxeWG"
   },
   "outputs": [],
   "source": []
  }
 ],
 "metadata": {
  "colab": {
   "provenance": []
  },
  "kernelspec": {
   "display_name": "Python 3 (ipykernel)",
   "language": "python",
   "name": "python3"
  },
  "language_info": {
   "codemirror_mode": {
    "name": "ipython",
    "version": 3
   },
   "file_extension": ".py",
   "mimetype": "text/x-python",
   "name": "python",
   "nbconvert_exporter": "python",
   "pygments_lexer": "ipython3",
   "version": "3.9.13"
  }
 },
 "nbformat": 4,
 "nbformat_minor": 1
}
